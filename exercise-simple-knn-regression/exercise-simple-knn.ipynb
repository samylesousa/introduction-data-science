{
 "cells": [
  {
   "cell_type": "markdown",
   "id": "ccc50da3",
   "metadata": {},
   "source": [
    "### Exercise: Simple kNN Regression"
   ]
  },
  {
   "cell_type": "markdown",
   "id": "ef58d276",
   "metadata": {},
   "source": [
    "The goal of the exercise is to recreate and add details about the subjects learned in class."
   ]
  },
  {
   "cell_type": "markdown",
   "id": "8a41bfa8",
   "metadata": {},
   "source": [
    "Instructions:\n",
    "Part 1: KNN by hand for k=1\n",
    "* Read the Advertisement data.\n",
    "* Apply the kNN algorithm by hand and plot the first graph comparing predicted values ​​with actual values"
   ]
  },
  {
   "cell_type": "code",
   "execution_count": 361,
   "id": "fcd6349d",
   "metadata": {},
   "outputs": [],
   "source": [
    "import pandas as pd\n",
    "import matplotlib.pyplot as plt\n",
    "import numpy as np"
   ]
  },
  {
   "cell_type": "markdown",
   "id": "8c897df8",
   "metadata": {},
   "source": [
    "Reading data and analyzing the quantity of data available:"
   ]
  },
  {
   "cell_type": "code",
   "execution_count": 362,
   "id": "7d41b406",
   "metadata": {},
   "outputs": [
    {
     "name": "stdout",
     "output_type": "stream",
     "text": [
      "Quantity of data available for this activity: 200\n"
     ]
    }
   ],
   "source": [
    "dados = pd.read_csv('Advertising.csv')\n",
    "X = dados.drop(columns=[\"Sales\"])[[\"TV\"]]\n",
    "y = dados[[\"Sales\"]]\n",
    "\n",
    "print(f'Quantity of data available for this activity: {len(X)}')"
   ]
  },
  {
   "cell_type": "code",
   "execution_count": 407,
   "id": "967f6ee8",
   "metadata": {},
   "outputs": [
    {
     "data": {
      "text/html": [
       "<div>\n",
       "<style scoped>\n",
       "    .dataframe tbody tr th:only-of-type {\n",
       "        vertical-align: middle;\n",
       "    }\n",
       "\n",
       "    .dataframe tbody tr th {\n",
       "        vertical-align: top;\n",
       "    }\n",
       "\n",
       "    .dataframe thead th {\n",
       "        text-align: right;\n",
       "    }\n",
       "</style>\n",
       "<table border=\"1\" class=\"dataframe\">\n",
       "  <thead>\n",
       "    <tr style=\"text-align: right;\">\n",
       "      <th></th>\n",
       "      <th>TV</th>\n",
       "      <th>Radio</th>\n",
       "      <th>Newspaper</th>\n",
       "      <th>Sales</th>\n",
       "    </tr>\n",
       "  </thead>\n",
       "  <tbody>\n",
       "    <tr>\n",
       "      <th>0</th>\n",
       "      <td>230.1</td>\n",
       "      <td>37.8</td>\n",
       "      <td>69.2</td>\n",
       "      <td>22.1</td>\n",
       "    </tr>\n",
       "    <tr>\n",
       "      <th>1</th>\n",
       "      <td>44.5</td>\n",
       "      <td>39.3</td>\n",
       "      <td>45.1</td>\n",
       "      <td>10.4</td>\n",
       "    </tr>\n",
       "    <tr>\n",
       "      <th>2</th>\n",
       "      <td>17.2</td>\n",
       "      <td>45.9</td>\n",
       "      <td>69.3</td>\n",
       "      <td>9.3</td>\n",
       "    </tr>\n",
       "    <tr>\n",
       "      <th>3</th>\n",
       "      <td>151.5</td>\n",
       "      <td>41.3</td>\n",
       "      <td>58.5</td>\n",
       "      <td>18.5</td>\n",
       "    </tr>\n",
       "    <tr>\n",
       "      <th>4</th>\n",
       "      <td>180.8</td>\n",
       "      <td>10.8</td>\n",
       "      <td>58.4</td>\n",
       "      <td>12.9</td>\n",
       "    </tr>\n",
       "  </tbody>\n",
       "</table>\n",
       "</div>"
      ],
      "text/plain": [
       "      TV  Radio  Newspaper  Sales\n",
       "0  230.1   37.8       69.2   22.1\n",
       "1   44.5   39.3       45.1   10.4\n",
       "2   17.2   45.9       69.3    9.3\n",
       "3  151.5   41.3       58.5   18.5\n",
       "4  180.8   10.8       58.4   12.9"
      ]
     },
     "execution_count": 407,
     "metadata": {},
     "output_type": "execute_result"
    }
   ],
   "source": [
    "dados.head()"
   ]
  },
  {
   "cell_type": "markdown",
   "id": "b4ccb9a6",
   "metadata": {},
   "source": [
    "Splitting data into training data and test data:"
   ]
  },
  {
   "cell_type": "code",
   "execution_count": 363,
   "id": "23d0a5e5",
   "metadata": {},
   "outputs": [],
   "source": [
    "from sklearn.model_selection import train_test_split\n",
    "\n",
    "X_train, X_test, y_train, y_test = train_test_split(X, y, test_size=0.3, random_state=42)"
   ]
  },
  {
   "cell_type": "markdown",
   "id": "fa8bafac",
   "metadata": {},
   "source": [
    "Below is defined the function that calculates the nearest neighbor from an array of numbers and a value:"
   ]
  },
  {
   "cell_type": "code",
   "execution_count": 364,
   "id": "ec076743",
   "metadata": {},
   "outputs": [],
   "source": [
    "def neighboor(array, value):\n",
    "    distances = []\n",
    "    for i in array:\n",
    "        distances.append(float(np.abs(i-value.iloc[0])))\n",
    "    min_idx = np.argmin(distances)\n",
    "\n",
    "    return array[min_idx]"
   ]
  },
  {
   "cell_type": "markdown",
   "id": "893cf770",
   "metadata": {},
   "source": [
    "Performing tests with the nearest neighbors function:"
   ]
  },
  {
   "cell_type": "code",
   "execution_count": 366,
   "id": "5d7e5baa",
   "metadata": {},
   "outputs": [],
   "source": [
    "y_predict = {}\n",
    "\n",
    "for idx, value in X_test.iterrows():\n",
    "    neighboor_distance = neighboor(X_train[\"TV\"].to_list(), value)\n",
    "    idx_number = X_train.index[X_train[\"TV\"] == neighboor_distance].tolist()\n",
    "    y_predict[idx] = y_train.loc[y_train.index == idx_number[0]][\"Sales\"].values.item()\n"
   ]
  },
  {
   "cell_type": "markdown",
   "id": "7365026f",
   "metadata": {},
   "source": [
    "Calculating the error to analyze the quality of the model:"
   ]
  },
  {
   "cell_type": "code",
   "execution_count": 388,
   "id": "8974e0e0",
   "metadata": {},
   "outputs": [
    {
     "name": "stdout",
     "output_type": "stream",
     "text": [
      "The MSE value for knn with k = 1 was: 14.226\n"
     ]
    }
   ],
   "source": [
    "from sklearn.metrics import mean_squared_error\n",
    "\n",
    "mse = mean_squared_error(y_test, list(y_predict.values()))\n",
    "\n",
    "print(f\"The MSE value for knn with k = 1 was: {mse}\")\n"
   ]
  },
  {
   "cell_type": "markdown",
   "id": "76d6fd2c",
   "metadata": {},
   "source": [
    "What does MSE = 14 mean? It's important to note that the \"Sales\" and \"TV\" scales are the same; both work with a value of $1,000. Furthermore, the values ​​of \"Sales,\" the predictor variable, range from $3,200 to $25,400. Therefore, an MSE of 14.23 results in an RMSE of approximately 3.78, or a mean error of $3,780.\n",
    "\n",
    "The range for \"Sales\" is $22,200, and the error is equivalent to 17.02% of the range. Considering these values, it's possible to judge the MSE result as reasonable or good, since although $3,780 is a considerable difference, it's not considered a terrible value on a general scale.\n",
    "\n",
    "In short, considering that I am using only k=1, the result of MSE = 14.23 allows the model to be read as reasonable or good."
   ]
  },
  {
   "cell_type": "markdown",
   "id": "f468eb2d",
   "metadata": {},
   "source": [
    "Drawing the graph to visualize how the predictions performed:"
   ]
  },
  {
   "cell_type": "code",
   "execution_count": 411,
   "id": "781cd650",
   "metadata": {},
   "outputs": [
    {
     "data": {
      "image/png": "[encoded data removed]",
      "text/plain": [
       "<Figure size 800x600 with 1 Axes>"
      ]
     },
     "metadata": {},
     "output_type": "display_data"
    }
   ],
   "source": [
    "fig, ax = plt.subplots(figsize=(8, 6))\n",
    "plt.style.use(\"_mpl-gallery\")\n",
    "graph1 = ax.scatter(y_test, list(y_predict.values()))\n",
    "\n",
    "min_val = min(min(y_test[\"Sales\"]), min(list(y_predict.values())))\n",
    "max_val = max(max(y_test[\"Sales\"]), max(list(y_predict.values())))\n",
    "ax.plot([min_val, max_val], [min_val, max_val], 'r--');"
   ]
  },
  {
   "cell_type": "markdown",
   "id": "a6f937bc",
   "metadata": {},
   "source": [
    "The graph above shows the comparison between the predicted results and the actual values. It can be seen that some values ​​were predicted correctly, while others were either underestimated (predicting lower values ​​than the true ones) or overestimated (predicting higher values ​​than the true ones).\n",
    "\n",
    "Overall, considering the model used, the predictions are acceptable, as most points are close to the line, with few outliers."
   ]
  },
  {
   "cell_type": "markdown",
   "id": "70cae159",
   "metadata": {},
   "source": [
    "Part 2: Generalizing KNN\n",
    "* Read the Advertisement dataset.\n",
    "* Split the data into train and test sets using the train_test_split() function.\n",
    "* Write the function for nearest neighbors with k > 1.\n",
    "* Set k_list  as the possible k values ranging from 1 to 70.\n",
    "* For each value of k in k_list:\n",
    "    * Also use sklearn KNearestNeighbors() to fit train data and then compare with the results found by your function.\n",
    "    * Predict on the test data."
   ]
  }
 ],
 "metadata": {
  "kernelspec": {
   "display_name": "env",
   "language": "python",
   "name": "python3"
  },
  "language_info": {
   "codemirror_mode": {
    "name": "ipython",
    "version": 3
   },
   "file_extension": ".py",
   "mimetype": "text/x-python",
   "name": "python",
   "nbconvert_exporter": "python",
   "pygments_lexer": "ipython3",
   "version": "3.9.11"
  }
 },
 "nbformat": 4,
 "nbformat_minor": 5
}
