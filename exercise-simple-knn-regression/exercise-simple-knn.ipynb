{
 "cells": [
  {
   "cell_type": "markdown",
   "id": "ccc50da3",
   "metadata": {},
   "source": [
    "### Exercise: Simple kNN Regression"
   ]
  },
  {
   "cell_type": "markdown",
   "id": "ef58d276",
   "metadata": {},
   "source": [
    "The goal of the exercise is to recreate and add details about the subjects learned in class."
   ]
  },
  {
   "cell_type": "markdown",
   "id": "db4b5783",
   "metadata": {},
   "source": [
    "### Part 1"
   ]
  },
  {
   "cell_type": "markdown",
   "id": "8a41bfa8",
   "metadata": {},
   "source": [
    "Instructions:\n",
    "Part 1: KNN by hand for k=1\n",
    "* Read the Advertisement data.\n",
    "* Apply the kNN algorithm by hand and plot the first graph comparing predicted values ​​with actual values"
   ]
  },
  {
   "cell_type": "code",
   "execution_count": 167,
   "id": "fcd6349d",
   "metadata": {},
   "outputs": [],
   "source": [
    "import pandas as pd\n",
    "import matplotlib.pyplot as plt\n",
    "import numpy as np"
   ]
  },
  {
   "cell_type": "markdown",
   "id": "8c897df8",
   "metadata": {},
   "source": [
    "Reading data and analyzing the quantity of data available:"
   ]
  },
  {
   "cell_type": "code",
   "execution_count": 168,
   "id": "7d41b406",
   "metadata": {},
   "outputs": [
    {
     "name": "stdout",
     "output_type": "stream",
     "text": [
      "Quantity of data available for this activity: 200\n"
     ]
    }
   ],
   "source": [
    "dados = pd.read_csv('..\\datasets\\Advertising.csv')\n",
    "X = dados.drop(columns=[\"Sales\"])[[\"TV\"]]\n",
    "y = dados[[\"Sales\"]]\n",
    "\n",
    "print(f'Quantity of data available for this activity: {len(X)}')"
   ]
  },
  {
   "cell_type": "code",
   "execution_count": 169,
   "id": "967f6ee8",
   "metadata": {},
   "outputs": [
    {
     "data": {
      "text/html": [
       "<div>\n",
       "<style scoped>\n",
       "    .dataframe tbody tr th:only-of-type {\n",
       "        vertical-align: middle;\n",
       "    }\n",
       "\n",
       "    .dataframe tbody tr th {\n",
       "        vertical-align: top;\n",
       "    }\n",
       "\n",
       "    .dataframe thead th {\n",
       "        text-align: right;\n",
       "    }\n",
       "</style>\n",
       "<table border=\"1\" class=\"dataframe\">\n",
       "  <thead>\n",
       "    <tr style=\"text-align: right;\">\n",
       "      <th></th>\n",
       "      <th>TV</th>\n",
       "      <th>Radio</th>\n",
       "      <th>Newspaper</th>\n",
       "      <th>Sales</th>\n",
       "    </tr>\n",
       "  </thead>\n",
       "  <tbody>\n",
       "    <tr>\n",
       "      <th>0</th>\n",
       "      <td>230.1</td>\n",
       "      <td>37.8</td>\n",
       "      <td>69.2</td>\n",
       "      <td>22.1</td>\n",
       "    </tr>\n",
       "    <tr>\n",
       "      <th>1</th>\n",
       "      <td>44.5</td>\n",
       "      <td>39.3</td>\n",
       "      <td>45.1</td>\n",
       "      <td>10.4</td>\n",
       "    </tr>\n",
       "    <tr>\n",
       "      <th>2</th>\n",
       "      <td>17.2</td>\n",
       "      <td>45.9</td>\n",
       "      <td>69.3</td>\n",
       "      <td>9.3</td>\n",
       "    </tr>\n",
       "    <tr>\n",
       "      <th>3</th>\n",
       "      <td>151.5</td>\n",
       "      <td>41.3</td>\n",
       "      <td>58.5</td>\n",
       "      <td>18.5</td>\n",
       "    </tr>\n",
       "    <tr>\n",
       "      <th>4</th>\n",
       "      <td>180.8</td>\n",
       "      <td>10.8</td>\n",
       "      <td>58.4</td>\n",
       "      <td>12.9</td>\n",
       "    </tr>\n",
       "  </tbody>\n",
       "</table>\n",
       "</div>"
      ],
      "text/plain": [
       "      TV  Radio  Newspaper  Sales\n",
       "0  230.1   37.8       69.2   22.1\n",
       "1   44.5   39.3       45.1   10.4\n",
       "2   17.2   45.9       69.3    9.3\n",
       "3  151.5   41.3       58.5   18.5\n",
       "4  180.8   10.8       58.4   12.9"
      ]
     },
     "execution_count": 169,
     "metadata": {},
     "output_type": "execute_result"
    }
   ],
   "source": [
    "dados.head()"
   ]
  },
  {
   "cell_type": "markdown",
   "id": "b4ccb9a6",
   "metadata": {},
   "source": [
    "Splitting data into training data and test data:"
   ]
  },
  {
   "cell_type": "code",
   "execution_count": 170,
   "id": "23d0a5e5",
   "metadata": {},
   "outputs": [],
   "source": [
    "from sklearn.model_selection import train_test_split\n",
    "\n",
    "X_train, X_test, y_train, y_test = train_test_split(X, y, test_size=0.3, random_state=42)"
   ]
  },
  {
   "cell_type": "markdown",
   "id": "fa8bafac",
   "metadata": {},
   "source": [
    "Below is defined the function that calculates the nearest neighbor from an array of numbers and a value:"
   ]
  },
  {
   "cell_type": "code",
   "execution_count": 171,
   "id": "ec076743",
   "metadata": {},
   "outputs": [],
   "source": [
    "def neighbor(array, value):\n",
    "    distances = []\n",
    "    for i in array:\n",
    "        distances.append(float(np.abs(i-value.iloc[0])))\n",
    "    min_idx = np.argmin(distances)\n",
    "\n",
    "    return array[min_idx]"
   ]
  },
  {
   "cell_type": "markdown",
   "id": "893cf770",
   "metadata": {},
   "source": [
    "Performing tests with the nearest neighbors function:"
   ]
  },
  {
   "cell_type": "code",
   "execution_count": 172,
   "id": "5d7e5baa",
   "metadata": {},
   "outputs": [],
   "source": [
    "y_predict = {}\n",
    "\n",
    "for idx, value in X_test.iterrows():\n",
    "    neighboor_distance = neighbor(X_train[\"TV\"].to_list(), value)\n",
    "    idx_number = X_train.index[X_train[\"TV\"] == neighboor_distance].tolist()\n",
    "    y_predict[idx] = y_train.loc[y_train.index == idx_number[0]][\"Sales\"].values.item()\n"
   ]
  },
  {
   "cell_type": "markdown",
   "id": "7365026f",
   "metadata": {},
   "source": [
    "Calculating the error to analyze the quality of the model:"
   ]
  },
  {
   "cell_type": "code",
   "execution_count": 173,
   "id": "8974e0e0",
   "metadata": {},
   "outputs": [
    {
     "name": "stdout",
     "output_type": "stream",
     "text": [
      "The MSE value for knn with k = 1 was: 14.226\n"
     ]
    }
   ],
   "source": [
    "from sklearn.metrics import mean_squared_error\n",
    "\n",
    "mse = mean_squared_error(y_test, list(y_predict.values()))\n",
    "\n",
    "print(f\"The MSE value for knn with k = 1 was: {mse}\")\n"
   ]
  },
  {
   "cell_type": "markdown",
   "id": "76d6fd2c",
   "metadata": {},
   "source": [
    "What does MSE = 14 mean? It's important to note that the \"Sales\" and \"TV\" scales are the same; both work with a value of `$1,000`. Furthermore, the values ​​of \"Sales,\" the predictor variable, range from `$3,200` to `$25,400`. Therefore, an MSE of 14.23 results in an RMSE of approximately 3.78, or a mean error of `$3,780`.\n",
    "\n",
    "The range for \"Sales\" is `$22,200`, and the error is equivalent to 17.02% of the range. Considering these values, it's possible to judge the MSE result as reasonable or good, since although `$3,780` is a considerable difference, it's not considered a terrible value on a general scale.\n",
    "\n",
    "In short, considering that I am using only k=1, the result of MSE = 14.23 allows the model to be read as reasonable or good."
   ]
  },
  {
   "cell_type": "markdown",
   "id": "f468eb2d",
   "metadata": {},
   "source": [
    "Drawing the graph to visualize how the predictions performed:"
   ]
  },
  {
   "cell_type": "code",
   "execution_count": 174,
   "id": "781cd650",
   "metadata": {},
   "outputs": [
    {
     "data": {
      "image/png": "[encoded data removed]",
      "text/plain": [
       "<Figure size 800x600 with 1 Axes>"
      ]
     },
     "metadata": {},
     "output_type": "display_data"
    }
   ],
   "source": [
    "fig, ax = plt.subplots(figsize=(8, 6))\n",
    "plt.style.use(\"ggplot\")\n",
    "graph1 = ax.scatter(y_test, list(y_predict.values()))\n",
    "\n",
    "min_val = min(min(y_test[\"Sales\"]), min(list(y_predict.values())))\n",
    "max_val = max(max(y_test[\"Sales\"]), max(list(y_predict.values())))\n",
    "ax.plot([min_val, max_val], [min_val, max_val], 'b--');\n",
    "ax.set_title(\"Predicted Sales vs Original Sales\");"
   ]
  },
  {
   "cell_type": "markdown",
   "id": "a6f937bc",
   "metadata": {},
   "source": [
    "The graph above shows the comparison between the predicted results and the actual values. It can be seen that some values ​​were predicted correctly, while others were either underestimated (predicting lower values ​​than the true ones) or overestimated (predicting higher values ​​than the true ones).\n",
    "\n",
    "Overall, considering the model used, the predictions are acceptable, as most points are close to the line, with few outliers."
   ]
  },
  {
   "cell_type": "markdown",
   "id": "1a4838f5",
   "metadata": {},
   "source": [
    "### Part 2"
   ]
  },
  {
   "cell_type": "markdown",
   "id": "70cae159",
   "metadata": {},
   "source": [
    "Part 2: Generalizing KNN\n",
    "* Write the function for nearest neighbors with k > 1.\n",
    "* Set k_list as the possible k values ranging from 1 to 70.\n",
    "* For each value of k in k_list:\n",
    "    * Also use sklearn KNearestNeighbors() to fit train data and then compare with the results found by your function.\n",
    "    * Predict on the test data."
   ]
  },
  {
   "cell_type": "markdown",
   "id": "5660018e",
   "metadata": {},
   "source": [
    "Functions for the algorithm with more than 1 neighbor:"
   ]
  },
  {
   "cell_type": "code",
   "execution_count": 175,
   "id": "262b013e",
   "metadata": {},
   "outputs": [],
   "source": [
    "def neighbors(array, value, k):\n",
    "    distances = {}\n",
    "    for i in range(0, len(array)):\n",
    "        distances[i] = float(np.abs(array[i]-value))\n",
    "    min_neighbors = dict(sorted(distances.items(), key=lambda item: item[1]))\n",
    "    min_indx = list(min_neighbors.keys())[:k]\n",
    "    return [array[i] for i in min_indx]\n",
    "\n",
    "def kneighbors(X_test, X_train, y_train, k):\n",
    "    y_predict = {}\n",
    "    for idx, value in X_test.iterrows():\n",
    "        values = []\n",
    "        neighboor_distance = neighbors(X_train[\"TV\"].to_list(), value.TV, k)\n",
    "        for i in range(0, k):\n",
    "            idx_number = X_train.index[X_train[\"TV\"] == neighboor_distance[i]].tolist()\n",
    "            values.append(y_train.loc[y_train.index == idx_number[0]][\"Sales\"].values.item()) \n",
    "    \n",
    "        y_predict[idx] = sum(values)/len(values)\n",
    "    \n",
    "    return y_predict\n",
    "\n",
    "kneighbors(X_test, X_train, y_train, 4);"
   ]
  },
  {
   "cell_type": "markdown",
   "id": "6cdc2d05",
   "metadata": {},
   "source": [
    "Application of the algorithm created by me and the sklearn algorithm with a variety of values for k:"
   ]
  },
  {
   "cell_type": "code",
   "execution_count": 176,
   "id": "65b78000",
   "metadata": {},
   "outputs": [],
   "source": [
    "from sklearn.neighbors import KNeighborsRegressor\n",
    "\n",
    "k_list = np.linspace(1, 70, num=20, dtype=int)\n",
    "MSE_sklearn = {}\n",
    "MSE_mine = {}\n",
    "\n",
    "for i in k_list:\n",
    "    neigh_sklearn = KNeighborsRegressor(n_neighbors=i)\n",
    "    neigh_sklearn.fit(X_train, y_train)\n",
    "    neigh_mine = list(kneighbors(X_test, X_train, y_train, i).values())\n",
    "    predictions_sklearn = neigh_sklearn.predict(X_test)\n",
    "    MSE_sklearn[f\"{i} neighboors\"] = mean_squared_error(y_test, predictions_sklearn)\n",
    "    MSE_mine[f\"{i} neighboors\"] = mean_squared_error(y_test, neigh_mine)\n"
   ]
  },
  {
   "cell_type": "markdown",
   "id": "5ba56ffd",
   "metadata": {},
   "source": [
    "Below you can see a dataframe created with the objective of storing, for later comparison, the MSE values ​​of the predictions made by sklearn and by my function."
   ]
  },
  {
   "cell_type": "code",
   "execution_count": 177,
   "id": "038933d8",
   "metadata": {},
   "outputs": [
    {
     "data": {
      "text/html": [
       "<div>\n",
       "<style scoped>\n",
       "    .dataframe tbody tr th:only-of-type {\n",
       "        vertical-align: middle;\n",
       "    }\n",
       "\n",
       "    .dataframe tbody tr th {\n",
       "        vertical-align: top;\n",
       "    }\n",
       "\n",
       "    .dataframe thead th {\n",
       "        text-align: right;\n",
       "    }\n",
       "</style>\n",
       "<table border=\"1\" class=\"dataframe\">\n",
       "  <thead>\n",
       "    <tr style=\"text-align: right;\">\n",
       "      <th></th>\n",
       "      <th>Neighboors</th>\n",
       "      <th>MSE_sklearn</th>\n",
       "      <th>MSE_mine</th>\n",
       "    </tr>\n",
       "  </thead>\n",
       "  <tbody>\n",
       "    <tr>\n",
       "      <th>0</th>\n",
       "      <td>1</td>\n",
       "      <td>14.350667</td>\n",
       "      <td>14.226000</td>\n",
       "    </tr>\n",
       "    <tr>\n",
       "      <th>1</th>\n",
       "      <td>4</td>\n",
       "      <td>8.542427</td>\n",
       "      <td>8.477969</td>\n",
       "    </tr>\n",
       "    <tr>\n",
       "      <th>2</th>\n",
       "      <td>8</td>\n",
       "      <td>8.708023</td>\n",
       "      <td>8.694846</td>\n",
       "    </tr>\n",
       "    <tr>\n",
       "      <th>3</th>\n",
       "      <td>11</td>\n",
       "      <td>9.495809</td>\n",
       "      <td>9.464826</td>\n",
       "    </tr>\n",
       "    <tr>\n",
       "      <th>4</th>\n",
       "      <td>15</td>\n",
       "      <td>9.660996</td>\n",
       "      <td>9.624301</td>\n",
       "    </tr>\n",
       "    <tr>\n",
       "      <th>5</th>\n",
       "      <td>19</td>\n",
       "      <td>9.873175</td>\n",
       "      <td>9.844023</td>\n",
       "    </tr>\n",
       "    <tr>\n",
       "      <th>6</th>\n",
       "      <td>22</td>\n",
       "      <td>9.473362</td>\n",
       "      <td>9.453357</td>\n",
       "    </tr>\n",
       "    <tr>\n",
       "      <th>7</th>\n",
       "      <td>26</td>\n",
       "      <td>9.655236</td>\n",
       "      <td>9.637780</td>\n",
       "    </tr>\n",
       "    <tr>\n",
       "      <th>8</th>\n",
       "      <td>30</td>\n",
       "      <td>10.237856</td>\n",
       "      <td>10.276617</td>\n",
       "    </tr>\n",
       "    <tr>\n",
       "      <th>9</th>\n",
       "      <td>33</td>\n",
       "      <td>10.400079</td>\n",
       "      <td>10.436124</td>\n",
       "    </tr>\n",
       "    <tr>\n",
       "      <th>10</th>\n",
       "      <td>37</td>\n",
       "      <td>10.504300</td>\n",
       "      <td>10.525462</td>\n",
       "    </tr>\n",
       "    <tr>\n",
       "      <th>11</th>\n",
       "      <td>40</td>\n",
       "      <td>10.558249</td>\n",
       "      <td>10.572525</td>\n",
       "    </tr>\n",
       "    <tr>\n",
       "      <th>12</th>\n",
       "      <td>44</td>\n",
       "      <td>10.773091</td>\n",
       "      <td>10.808140</td>\n",
       "    </tr>\n",
       "    <tr>\n",
       "      <th>13</th>\n",
       "      <td>48</td>\n",
       "      <td>11.115029</td>\n",
       "      <td>11.265465</td>\n",
       "    </tr>\n",
       "    <tr>\n",
       "      <th>14</th>\n",
       "      <td>51</td>\n",
       "      <td>11.347966</td>\n",
       "      <td>11.476061</td>\n",
       "    </tr>\n",
       "    <tr>\n",
       "      <th>15</th>\n",
       "      <td>55</td>\n",
       "      <td>12.062924</td>\n",
       "      <td>12.205879</td>\n",
       "    </tr>\n",
       "    <tr>\n",
       "      <th>16</th>\n",
       "      <td>59</td>\n",
       "      <td>12.369403</td>\n",
       "      <td>12.503726</td>\n",
       "    </tr>\n",
       "    <tr>\n",
       "      <th>17</th>\n",
       "      <td>62</td>\n",
       "      <td>12.710022</td>\n",
       "      <td>12.907882</td>\n",
       "    </tr>\n",
       "    <tr>\n",
       "      <th>18</th>\n",
       "      <td>66</td>\n",
       "      <td>13.151885</td>\n",
       "      <td>13.370199</td>\n",
       "    </tr>\n",
       "    <tr>\n",
       "      <th>19</th>\n",
       "      <td>70</td>\n",
       "      <td>13.599096</td>\n",
       "      <td>13.820217</td>\n",
       "    </tr>\n",
       "  </tbody>\n",
       "</table>\n",
       "</div>"
      ],
      "text/plain": [
       "    Neighboors  MSE_sklearn   MSE_mine\n",
       "0            1    14.350667  14.226000\n",
       "1            4     8.542427   8.477969\n",
       "2            8     8.708023   8.694846\n",
       "3           11     9.495809   9.464826\n",
       "4           15     9.660996   9.624301\n",
       "5           19     9.873175   9.844023\n",
       "6           22     9.473362   9.453357\n",
       "7           26     9.655236   9.637780\n",
       "8           30    10.237856  10.276617\n",
       "9           33    10.400079  10.436124\n",
       "10          37    10.504300  10.525462\n",
       "11          40    10.558249  10.572525\n",
       "12          44    10.773091  10.808140\n",
       "13          48    11.115029  11.265465\n",
       "14          51    11.347966  11.476061\n",
       "15          55    12.062924  12.205879\n",
       "16          59    12.369403  12.503726\n",
       "17          62    12.710022  12.907882\n",
       "18          66    13.151885  13.370199\n",
       "19          70    13.599096  13.820217"
      ]
     },
     "execution_count": 177,
     "metadata": {},
     "output_type": "execute_result"
    }
   ],
   "source": [
    "dt_kneighboors = pd.DataFrame({\"Neighboors\": k_list, \n",
    "                               \"MSE_sklearn\":list(MSE_sklearn.values()), \n",
    "                               \"MSE_mine\": list(MSE_mine.values())})\n",
    "dt_kneighboors"
   ]
  },
  {
   "cell_type": "markdown",
   "id": "bfeb39e5",
   "metadata": {},
   "source": [
    "To better represent the difference between the MSE generated by the values ​​predicted by sklearn and the MSE generated by the values ​​predicted by the function I wrote, I drew the graph below visually presenting this difference.\n",
    "\n",
    "Note that the difference is small, but still present. It increases as the k values ​​increase. Another point to note is that my function's MSE starts out better than sklearn's. However, as the number of neighbors increases, sklearn's MSE becomes smaller than my function's, thus resulting in a smaller error."
   ]
  },
  {
   "cell_type": "code",
   "execution_count": 178,
   "id": "4acb359a",
   "metadata": {},
   "outputs": [
    {
     "data": {
      "image/png": "[encoded data removed]",
      "text/plain": [
       "<Figure size 800x1000 with 1 Axes>"
      ]
     },
     "metadata": {},
     "output_type": "display_data"
    }
   ],
   "source": [
    "fig, ax = plt.subplots(figsize=(8, 10))\n",
    "ax.plot(dt_kneighboors[\"Neighboors\"], dt_kneighboors[\"MSE_sklearn\"], 'o-r', label=\"MSE_sklearn\")\n",
    "ax.plot(dt_kneighboors[\"Neighboors\"], dt_kneighboors[\"MSE_mine\"], 'o-b', label=\"MSE_mine\")\n",
    "ax.set_title(\"MSE from sklearn predicted values vs MSE from my fuction predicted values\");\n",
    "ax.legend([\"MSE_sklearn\", \"MSE_mine\"]);"
   ]
  },
  {
   "cell_type": "markdown",
   "id": "6292540e",
   "metadata": {},
   "source": [
    "### Part 3"
   ]
  },
  {
   "cell_type": "markdown",
   "id": "e3ee0a49",
   "metadata": {},
   "source": [
    "The goal here is to find the value of k of the best performing model based on the test MSE.\n",
    "\n",
    "Instructions:\n",
    "* Read the data into a Pandas dataframe object. \n",
    "* Select the sales column as the response variable and TV budget column as the predictor variable.\n",
    "* Make a train-test split using sklearn.model_selection.train_test_split .\n",
    "* Create a list of integer k values using numpy.linspace .\n",
    "* For each value of k\n",
    "    * Fit a kNN regression on train set.\n",
    "    * Calculate MSE on test set and store it.\n",
    "* Plot the test MSE values for each k.\n",
    "* Find the k value associated with the lowest test MSE."
   ]
  }
 ],
 "metadata": {
  "kernelspec": {
   "display_name": "env",
   "language": "python",
   "name": "python3"
  },
  "language_info": {
   "codemirror_mode": {
    "name": "ipython",
    "version": 3
   },
   "file_extension": ".py",
   "mimetype": "text/x-python",
   "name": "python",
   "nbconvert_exporter": "python",
   "pygments_lexer": "ipython3",
   "version": "3.9.11"
  }
 },
 "nbformat": 4,
 "nbformat_minor": 5
}
