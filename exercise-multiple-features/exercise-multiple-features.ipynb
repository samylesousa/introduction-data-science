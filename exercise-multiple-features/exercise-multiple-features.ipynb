{
 "cells": [
  {
   "cell_type": "markdown",
   "id": "af6acefc",
   "metadata": {},
   "source": [
    "### Exercise: Multiple features"
   ]
  },
  {
   "cell_type": "markdown",
   "id": "1d8eeea3",
   "metadata": {},
   "source": [
    "### Part 1"
   ]
  },
  {
   "cell_type": "markdown",
   "id": "bdb749fa",
   "metadata": {},
   "source": [
    "The idea is to analyze how the model behaves when more than one variable is used to make predictions.\n",
    "\n",
    "* One variable\n",
    "    * Identify the predictor and response variables from the dataframe.\n",
    "    * Initialize an empty Pandas dataframe df_results to store the R^2 values of each model fitted.\n",
    "    * Split the data into train and test sets.\n",
    "    * Train a linear model on the train data.\n",
    "    * Predict on both the train and test data.\n",
    "    * Plot the train and test data along with the model predictions.\n",
    "    * Compute and return the R^2 on the train and test set.\n",
    "\n",
    "* Multi-variables\n",
    "    * The function will split the data into train and test sets (which will be covered in depth in future sessions)\n",
    "    * Train a linear model on the train data with all the predictors.\n",
    "    * Predict on both the train and test data.\n",
    "    * Plot the train and test data along with the model predictions.\n",
    "    * Compute and return the R^2 on the train and test set.\n",
    "    * Update the dataframe df_results with the R^2 from all 4 models."
   ]
  },
  {
   "cell_type": "markdown",
   "id": "bb0c8ff6",
   "metadata": {},
   "source": [
    "### Part 2"
   ]
  },
  {
   "cell_type": "markdown",
   "id": "cc04950c",
   "metadata": {},
   "source": [
    "The aim of this exercise is to understand how to use multi regression. Here we will observe the difference in MSE for each model as the predictors change. \n",
    "\n",
    "Instructions:\n",
    "* Read the file Advertisement.csv as a dataframe.\n",
    "* For each instance of the predictor combination, we will form a model. For example, if you have 2 predictors,  A and B, you will end up getting 3 models - one with only A, one with only B, and one with both A and B.\n",
    "    * Split the data into train and test sets.\n",
    "    * fit a linear regression model on the train data.\n",
    "    * Compute the MSE of each model on the test data.\n",
    "\n",
    "* Print the results for each Predictor - MSE value pair.\n",
    "\n",
    "\n"
   ]
  }
 ],
 "metadata": {
  "language_info": {
   "name": "python"
  }
 },
 "nbformat": 4,
 "nbformat_minor": 5
}
